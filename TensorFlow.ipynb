{
  "nbformat": 4,
  "nbformat_minor": 0,
  "metadata": {
    "colab": {
      "name": "TensorFlow.ipynb",
      "private_outputs": true,
      "provenance": [],
      "authorship_tag": "ABX9TyMyIvBqCj5pdSS/jxaNgm0V",
      "include_colab_link": true
    },
    "kernelspec": {
      "name": "python3",
      "display_name": "Python 3"
    },
    "language_info": {
      "name": "python"
    },
    "accelerator": "GPU"
  },
  "cells": [
    {
      "cell_type": "markdown",
      "metadata": {
        "id": "view-in-github",
        "colab_type": "text"
      },
      "source": [
        "<a href=\"https://colab.research.google.com/github/kapil0808/TensorFlow/blob/main/TensorFlow.ipynb\" target=\"_parent\"><img src=\"https://colab.research.google.com/assets/colab-badge.svg\" alt=\"Open In Colab\"/></a>"
      ]
    },
    {
      "cell_type": "code",
      "metadata": {
        "id": "CmSuQxgzKLJB"
      },
      "source": [
        "import tensorflow as tf"
      ],
      "execution_count": null,
      "outputs": []
    },
    {
      "cell_type": "code",
      "metadata": {
        "id": "PdRMExNXLrgV"
      },
      "source": [
        "# Initialization of Tensors\n",
        "\n",
        "tf.__version__\n"
      ],
      "execution_count": null,
      "outputs": []
    },
    {
      "cell_type": "code",
      "metadata": {
        "id": "ps2rJdzFOVnq"
      },
      "source": [
        "hello=tf.constant(\"Hello \")"
      ],
      "execution_count": null,
      "outputs": []
    },
    {
      "cell_type": "code",
      "metadata": {
        "id": "kLeiyjd9PE_G"
      },
      "source": [
        "world=tf.constant(\" World\")\n",
        "world"
      ],
      "execution_count": null,
      "outputs": []
    },
    {
      "cell_type": "code",
      "metadata": {
        "id": "Q6Gw8Z8VPKIm"
      },
      "source": [
        "type(hello)"
      ],
      "execution_count": null,
      "outputs": []
    },
    {
      "cell_type": "code",
      "metadata": {
        "id": "r1bPhgDtPQ_J"
      },
      "source": [
        "print ( tf.version)"
      ],
      "execution_count": null,
      "outputs": []
    },
    {
      "cell_type": "code",
      "metadata": {
        "id": "UnHeOoXvRcQ7"
      },
      "source": [
        "string=tf.Variable('This is a string',tf.string)\n",
        "number=tf.Variable(324,tf.int16)\n",
        "floating = tf.Variable(3.567, tf.float64)"
      ],
      "execution_count": null,
      "outputs": []
    },
    {
      "cell_type": "code",
      "metadata": {
        "id": "ckUQd1AVPfZZ"
      },
      "source": [
        "rank1_tensor=tf.Variable(['Test'],tf.string)\n",
        "rank2_tensor = tf.Variable([[\"test\", \"ok\"], [\"test\", \"yes\"]], tf.string)\n"
      ],
      "execution_count": null,
      "outputs": []
    },
    {
      "cell_type": "code",
      "metadata": {
        "id": "F1EcunFmP3pe"
      },
      "source": [
        "tf.rank(rank2_tensor)"
      ],
      "execution_count": null,
      "outputs": []
    },
    {
      "cell_type": "code",
      "metadata": {
        "id": "_SAKQvopSi0G"
      },
      "source": [
        "print(tf.rank(rank1_tensor))\n",
        "print(tf.rank(number))"
      ],
      "execution_count": null,
      "outputs": []
    },
    {
      "cell_type": "code",
      "metadata": {
        "id": "ybHh2Zqycorv"
      },
      "source": [
        "print(rank2_tensor.shape)\n",
        "print(rank1_tensor.shape)"
      ],
      "execution_count": null,
      "outputs": []
    },
    {
      "cell_type": "code",
      "metadata": {
        "id": "yRACjw3bdDVo"
      },
      "source": [
        "A=tf.constant([[4,3],[5,3]])"
      ],
      "execution_count": null,
      "outputs": []
    },
    {
      "cell_type": "code",
      "metadata": {
        "id": "MDy4LXPAgU1N"
      },
      "source": [
        "A"
      ],
      "execution_count": null,
      "outputs": []
    },
    {
      "cell_type": "code",
      "metadata": {
        "id": "Q6PIzdJggX2A"
      },
      "source": [
        "K=tf.Variable([[5,6],[3,9]])"
      ],
      "execution_count": null,
      "outputs": []
    },
    {
      "cell_type": "code",
      "metadata": {
        "id": "XBbN9p5tgjRW"
      },
      "source": [
        "K"
      ],
      "execution_count": null,
      "outputs": []
    },
    {
      "cell_type": "code",
      "metadata": {
        "id": "a0uD4Cc8gj7Y"
      },
      "source": [
        "AB_concatenate=tf.concat(values=[A,K],axis=1)"
      ],
      "execution_count": null,
      "outputs": []
    },
    {
      "cell_type": "code",
      "metadata": {
        "id": "lj-MaAEVhHxK"
      },
      "source": [
        "print(AB_concatenate)"
      ],
      "execution_count": null,
      "outputs": []
    },
    {
      "cell_type": "code",
      "metadata": {
        "id": "-PkbfHG1hLWT"
      },
      "source": [
        "AB_concatenate=tf.concat(values=[A,K],axis=0)"
      ],
      "execution_count": null,
      "outputs": []
    },
    {
      "cell_type": "code",
      "metadata": {
        "id": "mrjaD14phPrH"
      },
      "source": [
        "print(AB_concatenate)"
      ],
      "execution_count": null,
      "outputs": []
    },
    {
      "cell_type": "code",
      "metadata": {
        "id": "yIJTAiethRLC"
      },
      "source": [
        "tensor=tf.zeros(shape=[3,4],dtype=tf.int32)\n",
        "tensor"
      ],
      "execution_count": null,
      "outputs": []
    },
    {
      "cell_type": "code",
      "metadata": {
        "id": "MwaOqgr6h92b"
      },
      "source": [
        "tensor=tf.ones(shape=[3,4],dtype=tf.int64)\n",
        "tensor"
      ],
      "execution_count": null,
      "outputs": []
    },
    {
      "cell_type": "code",
      "metadata": {
        "id": "k1E8k-cHiMD6"
      },
      "source": [
        "reshaped_tensor=tf.reshape(tensor=tensor,shape=[4,3])\n",
        "reshaped_tensor"
      ],
      "execution_count": null,
      "outputs": []
    },
    {
      "cell_type": "code",
      "metadata": {
        "id": "1EgoRKpqjh0_"
      },
      "source": [
        "rand=tf.random.uniform(shape=[3,4],dtype=tf.float32)\n",
        "rand"
      ],
      "execution_count": null,
      "outputs": []
    },
    {
      "cell_type": "code",
      "metadata": {
        "id": "u9z7fZgFj_MU"
      },
      "source": [
        "reshaped_tensor=tf.reshape(tensor=rand,shape=[4,3])\n",
        "reshaped_tensor"
      ],
      "execution_count": null,
      "outputs": []
    },
    {
      "cell_type": "code",
      "metadata": {
        "id": "4E7RMTHSkWZK"
      },
      "source": [
        "tensor=tf.constant([[4.2,3.2],\n",
        "                    [5.2,6.8],\n",
        "                    [9.2,8.2],\n",
        "                    [7.2,10.2]],dtype=tf.float32)\n",
        "tensor_as_int=tf.cast(tensor,dtype=tf.int32)\n",
        "print(tensor)\n",
        "print(tensor_as_int)"
      ],
      "execution_count": null,
      "outputs": []
    },
    {
      "cell_type": "code",
      "metadata": {
        "id": "EcMWg0E6lm6p"
      },
      "source": [
        "a=tf.transpose(tensor_as_int)\n",
        "a"
      ],
      "execution_count": null,
      "outputs": []
    },
    {
      "cell_type": "code",
      "metadata": {
        "id": "ctNSmJBpmdSx"
      },
      "source": [
        "A=tf.constant([[3,9],\n",
        "               [5,9]])\n",
        "\n",
        "B=tf.constant([[9],\n",
        "               [8]])"
      ],
      "execution_count": null,
      "outputs": []
    },
    {
      "cell_type": "code",
      "metadata": {
        "id": "eQMN9A0tm6xC"
      },
      "source": [
        "AB=tf.matmul(A,B)\n",
        "AB"
      ],
      "execution_count": null,
      "outputs": []
    },
    {
      "cell_type": "code",
      "metadata": {
        "id": "aw6LAWFbnH7N"
      },
      "source": [
        "AB=tf.multiply(A,B)\n",
        "AB"
      ],
      "execution_count": null,
      "outputs": []
    },
    {
      "cell_type": "code",
      "metadata": {
        "id": "lzXwCPwFpWTg"
      },
      "source": [
        "A=tf.constant([[4,9],\n",
        "               [8,7],\n",
        "               [9,10]])\n",
        "rows,columns = A.shape\n",
        "print('rows:',rows,' columns:',columns)"
      ],
      "execution_count": null,
      "outputs": []
    },
    {
      "cell_type": "code",
      "metadata": {
        "id": "ldOtzdBLp4fO"
      },
      "source": [
        "A_identity=tf.eye(num_rows=rows, num_columns=3,dtype=tf.int32)\n",
        "A_identity"
      ],
      "execution_count": null,
      "outputs": []
    },
    {
      "cell_type": "code",
      "metadata": {
        "id": "owl-cX4drEul"
      },
      "source": [
        ""
      ],
      "execution_count": null,
      "outputs": []
    }
  ]
}